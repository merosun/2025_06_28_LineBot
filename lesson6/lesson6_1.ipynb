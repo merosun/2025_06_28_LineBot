{
 "cells": [
  {
   "cell_type": "code",
   "execution_count": null,
   "id": "04b34f91",
   "metadata": {},
   "outputs": [],
   "source": [
    "import requests\n",
    "import json\n",
    "def get_weather(city):\n",
    "  \"\"\"\n",
    "  獲取指定城市的天氣資訊。\n",
    "\n",
    "  Args:\n",
    "      city: 要查詢的城市名稱。\n",
    "\n",
    "  Returns:\n",
    "      如果成功，返回天氣資訊字典。  如果發生錯誤，則返回 None。\n",
    "  \"\"\"\n",
    "\n",
    "  try:\n",
    "    # 查詢天氣網站 (請根據需要選擇或替換)\n",
    "    url = f\"https://www.google.com/search?q='{city}'&hl=en\"\n",
    "\n",
    "    response = requests.get(url)\n",
    "\n",
    "    response.raise_for_status()  # 檢查 HTTP 狀態碼是否為 200 OK\n",
    "\n",
    "    data = response.json()\n",
    "\n",
    "    # 提取天氣資訊\n",
    "    weather_info = data.get('query', {}).get('result', {}).get('weather', {})\n",
    "\n",
    "    return weather_info\n",
    "\n",
    "  except requests.exceptions.RequestException as e:\n",
    "    print(f\"天氣查詢錯誤：{e}\")\n",
    "    return None\n",
    "  except json.JSONDecodeError as e:\n",
    "    print(f\"JSON 解析錯誤：{e}\")\n",
    "    return None\n",
    "\n",
    "if __name__ == \"__main__\":\n",
    "  city = input(\"請輸入城市名稱：\")\n",
    "  weather = get_weather(city)\n",
    "\n",
    "  if weather:\n",
    "    print(f\"天氣資訊：\")\n",
    "    print(weather)\n",
    "  else:\n",
    "    print(\"無法取得天氣資訊。\")\n"
   ]
  }
 ],
 "metadata": {
  "kernelspec": {
   "display_name": "line_Bot",
   "language": "python",
   "name": "python3"
  },
  "language_info": {
   "codemirror_mode": {
    "name": "ipython",
    "version": 3
   },
   "file_extension": ".py",
   "mimetype": "text/x-python",
   "name": "python",
   "nbconvert_exporter": "python",
   "pygments_lexer": "ipython3",
   "version": "3.12.11"
  }
 },
 "nbformat": 4,
 "nbformat_minor": 5
}
