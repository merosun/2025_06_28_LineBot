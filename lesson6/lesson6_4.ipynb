{
 "cells": [
  {
   "cell_type": "code",
   "execution_count": null,
   "id": "18e34653",
   "metadata": {},
   "outputs": [],
   "source": [
    "import requests\n",
    "\n",
    "def generate_with_ollama(prompt:str)->None:\n",
    "    url = 'http://localhost:11434/api/generate'\n",
    "    payload = {\n",
    "        \"model\":\"gemma3:1b\",\n",
    "        \"prompt\" : prompt,\n",
    "        \"stream\" : False\n",
    "    }"
   ]
  }
 ],
 "metadata": {
  "language_info": {
   "name": "python"
  }
 },
 "nbformat": 4,
 "nbformat_minor": 5
}
