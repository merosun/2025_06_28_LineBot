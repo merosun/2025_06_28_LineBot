{
 "cells": [
  {
   "cell_type": "code",
   "execution_count": null,
   "id": "485333dd",
   "metadata": {},
   "outputs": [],
   "source": [
    "from google import genai\n",
    "import os\n",
    "from IPython.display import display, Markdown, Latex\n",
    "\n",
    "client = genai.Client(api_key=os.environ['GEMINI_API_KEY'])\n",
    "\n",
    "response = client.models.generate_content(\n",
    "    model=\"gemini-2.5-flash\",\n",
    "    contents=\"AI是如何工作的(請使用繁體中文回答)?\"\n",
    ")\n",
    "\n",
    "display(Markdown(response.text))"
   ]
  }
 ],
 "metadata": {
  "kernelspec": {
   "display_name": "line_Bot",
   "language": "python",
   "name": "python3"
  },
  "language_info": {
   "name": "python",
   "version": "3.12.11"
  }
 },
 "nbformat": 4,
 "nbformat_minor": 5
}
